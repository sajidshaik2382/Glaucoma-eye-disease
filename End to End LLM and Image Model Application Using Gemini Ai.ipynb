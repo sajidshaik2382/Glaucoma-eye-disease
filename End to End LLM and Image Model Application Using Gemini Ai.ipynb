{
 "cells": [
  {
   "cell_type": "markdown",
   "id": "515c2dae",
   "metadata": {},
   "source": [
    "# FOR TEXT RESPONSE"
   ]
  },
  {
   "cell_type": "code",
   "execution_count": 4,
   "id": "3f43017e",
   "metadata": {},
   "outputs": [
    {
     "name": "stderr",
     "output_type": "stream",
     "text": [
      "2023-12-25 16:30:45.586 \n",
      "  \u001b[33m\u001b[1mWarning:\u001b[0m to view this Streamlit app on a browser, run it with the following\n",
      "  command:\n",
      "\n",
      "    streamlit run C:\\Users\\Acer\\anaconda3\\Lib\\site-packages\\ipykernel_launcher.py [ARGUMENTS]\n"
     ]
    }
   ],
   "source": [
    "from dotenv import load_dotenv\n",
    "load_dotenv() ## loading all the environment variables\n",
    "\n",
    "import streamlit as st\n",
    "import os\n",
    "import google.generativeai as genai\n",
    "\n",
    "\n",
    "genai.configure(api_key=os.getenv(\"GOOGLE_API_KEY\"))\n",
    "\n",
    "## FUNCTION to load Gemini Pro model and get responses\n",
    "model = genai.GenerativeModel(\"gemini-pro\")\n",
    "def get_gemini_response(question):\n",
    "    response=model.generate_content(question)\n",
    "    return response.text\n",
    "\n",
    "\n",
    "st.set_page_config(page_title=\"Q&A Demo\")\n",
    "\n",
    "st.header(\"Gemini LLM Application\")\n",
    "\n",
    "input = st.text_input(\"Input:\",key=\"Input\")\n",
    "\n",
    "submit=st.button(\"Ask the question\")\n",
    "\n",
    "if submit:\n",
    "    response=get_gemini_response(input)\n",
    "    st.subheader(\"The Response is \")\n",
    "    st.write(response)"
   ]
  },
  {
   "cell_type": "code",
   "execution_count": 3,
   "id": "9876f823",
   "metadata": {},
   "outputs": [
    {
     "name": "stdout",
     "output_type": "stream",
     "text": [
      "Collecting google-generativeai\n",
      "  Obtaining dependency information for google-generativeai from https://files.pythonhosted.org/packages/b5/7f/35f89209487f8473edc9d2cecef894a54680cf666e32893a767d12a8dba9/google_generativeai-0.3.2-py3-none-any.whl.metadata\n",
      "  Downloading google_generativeai-0.3.2-py3-none-any.whl.metadata (5.9 kB)\n",
      "Collecting google-ai-generativelanguage==0.4.0 (from google-generativeai)\n",
      "  Obtaining dependency information for google-ai-generativelanguage==0.4.0 from https://files.pythonhosted.org/packages/40/c2/d28988d3cba74e712f47a498e2b3e3b58ac215106019bf5d8c20f8ab9822/google_ai_generativelanguage-0.4.0-py3-none-any.whl.metadata\n",
      "  Downloading google_ai_generativelanguage-0.4.0-py3-none-any.whl.metadata (5.1 kB)\n",
      "Collecting google-auth (from google-generativeai)\n",
      "  Obtaining dependency information for google-auth from https://files.pythonhosted.org/packages/f4/d2/9f6f3b9c0fd486617816cff42e856afea079d0bad99f0e60dc186c76b881/google_auth-2.25.2-py2.py3-none-any.whl.metadata\n",
      "  Downloading google_auth-2.25.2-py2.py3-none-any.whl.metadata (4.7 kB)\n",
      "Collecting google-api-core (from google-generativeai)\n",
      "  Obtaining dependency information for google-api-core from https://files.pythonhosted.org/packages/d6/c9/0462f037b62796fbda4801be62d0ae3147eaeb99e2939661580c98abe3eb/google_api_core-2.15.0-py3-none-any.whl.metadata\n",
      "  Downloading google_api_core-2.15.0-py3-none-any.whl.metadata (2.7 kB)\n",
      "Requirement already satisfied: typing-extensions in c:\\users\\acer\\anaconda3\\lib\\site-packages (from google-generativeai) (4.8.0)\n",
      "Requirement already satisfied: protobuf in c:\\users\\acer\\appdata\\roaming\\python\\python311\\site-packages (from google-generativeai) (4.21.12)\n",
      "Requirement already satisfied: tqdm in c:\\users\\acer\\anaconda3\\lib\\site-packages (from google-generativeai) (4.65.0)\n",
      "Collecting proto-plus<2.0.0dev,>=1.22.3 (from google-ai-generativelanguage==0.4.0->google-generativeai)\n",
      "  Obtaining dependency information for proto-plus<2.0.0dev,>=1.22.3 from https://files.pythonhosted.org/packages/ad/41/7361075f3a31dcd05a6a38cfd807a6eecbfb6dbfe420d922cd400fc03ac1/proto_plus-1.23.0-py3-none-any.whl.metadata\n",
      "  Downloading proto_plus-1.23.0-py3-none-any.whl.metadata (2.2 kB)\n",
      "Collecting googleapis-common-protos<2.0.dev0,>=1.56.2 (from google-api-core->google-generativeai)\n",
      "  Obtaining dependency information for googleapis-common-protos<2.0.dev0,>=1.56.2 from https://files.pythonhosted.org/packages/f0/43/c9d8f75ddf08e2a0a27db243c13a700c3cc7ec615b545b697cf6f715ad92/googleapis_common_protos-1.62.0-py2.py3-none-any.whl.metadata\n",
      "  Downloading googleapis_common_protos-1.62.0-py2.py3-none-any.whl.metadata (1.5 kB)\n",
      "Requirement already satisfied: requests<3.0.0.dev0,>=2.18.0 in c:\\users\\acer\\anaconda3\\lib\\site-packages (from google-api-core->google-generativeai) (2.31.0)\n",
      "Requirement already satisfied: cachetools<6.0,>=2.0.0 in c:\\users\\acer\\anaconda3\\lib\\site-packages (from google-auth->google-generativeai) (4.2.2)\n",
      "Requirement already satisfied: pyasn1-modules>=0.2.1 in c:\\users\\acer\\anaconda3\\lib\\site-packages (from google-auth->google-generativeai) (0.2.8)\n",
      "Collecting rsa<5,>=3.1.4 (from google-auth->google-generativeai)\n",
      "  Using cached rsa-4.9-py3-none-any.whl (34 kB)\n",
      "Requirement already satisfied: colorama in c:\\users\\acer\\anaconda3\\lib\\site-packages (from tqdm->google-generativeai) (0.4.6)\n",
      "Collecting grpcio<2.0dev,>=1.33.2 (from google-api-core->google-generativeai)\n",
      "  Obtaining dependency information for grpcio<2.0dev,>=1.33.2 from https://files.pythonhosted.org/packages/6a/b9/f94bea4c6f0e322a239f7ba66ba3b0ce766d1c6a2d50055f7c8acf0fba38/grpcio-1.60.0-cp311-cp311-win_amd64.whl.metadata\n",
      "  Downloading grpcio-1.60.0-cp311-cp311-win_amd64.whl.metadata (4.2 kB)\n",
      "Collecting grpcio-status<2.0.dev0,>=1.33.2 (from google-api-core->google-generativeai)\n",
      "  Obtaining dependency information for grpcio-status<2.0.dev0,>=1.33.2 from https://files.pythonhosted.org/packages/d9/bd/f46d6511088f314cfedc880721fd32d387b8513b22da01cf4771d7439a2b/grpcio_status-1.60.0-py3-none-any.whl.metadata\n",
      "  Downloading grpcio_status-1.60.0-py3-none-any.whl.metadata (1.3 kB)\n",
      "Requirement already satisfied: pyasn1<0.5.0,>=0.4.6 in c:\\users\\acer\\anaconda3\\lib\\site-packages (from pyasn1-modules>=0.2.1->google-auth->google-generativeai) (0.4.8)\n",
      "Requirement already satisfied: charset-normalizer<4,>=2 in c:\\users\\acer\\anaconda3\\lib\\site-packages (from requests<3.0.0.dev0,>=2.18.0->google-api-core->google-generativeai) (2.0.4)\n",
      "Requirement already satisfied: idna<4,>=2.5 in c:\\users\\acer\\anaconda3\\lib\\site-packages (from requests<3.0.0.dev0,>=2.18.0->google-api-core->google-generativeai) (3.4)\n",
      "Requirement already satisfied: urllib3<3,>=1.21.1 in c:\\users\\acer\\anaconda3\\lib\\site-packages (from requests<3.0.0.dev0,>=2.18.0->google-api-core->google-generativeai) (1.26.16)\n",
      "Requirement already satisfied: certifi>=2017.4.17 in c:\\users\\acer\\anaconda3\\lib\\site-packages (from requests<3.0.0.dev0,>=2.18.0->google-api-core->google-generativeai) (2023.7.22)\n",
      "Downloading google_generativeai-0.3.2-py3-none-any.whl (146 kB)\n",
      "   ---------------------------------------- 0.0/146.9 kB ? eta -:--:--\n",
      "   -- ------------------------------------- 10.2/146.9 kB ? eta -:--:--\n",
      "   ---------- ---------------------------- 41.0/146.9 kB 667.8 kB/s eta 0:00:01\n",
      "   --------------------- ----------------- 81.9/146.9 kB 770.8 kB/s eta 0:00:01\n",
      "   ---------------------------------------  143.4/146.9 kB 1.1 MB/s eta 0:00:01\n",
      "   -------------------------------------- 146.9/146.9 kB 876.1 kB/s eta 0:00:00\n",
      "Downloading google_ai_generativelanguage-0.4.0-py3-none-any.whl (598 kB)\n",
      "   ---------------------------------------- 0.0/598.7 kB ? eta -:--:--\n",
      "   ---- ----------------------------------- 61.4/598.7 kB 1.7 MB/s eta 0:00:01\n",
      "   ------ --------------------------------- 92.2/598.7 kB 1.3 MB/s eta 0:00:01\n",
      "   ---------- ----------------------------- 153.6/598.7 kB 1.3 MB/s eta 0:00:01\n",
      "   ------------- -------------------------- 204.8/598.7 kB 1.4 MB/s eta 0:00:01\n",
      "   ------------------ --------------------- 276.5/598.7 kB 1.3 MB/s eta 0:00:01\n",
      "   ---------------------- ----------------- 337.9/598.7 kB 1.3 MB/s eta 0:00:01\n",
      "   -------------------------- ------------- 399.4/598.7 kB 1.4 MB/s eta 0:00:01\n",
      "   ------------------------------- -------- 471.0/598.7 kB 1.4 MB/s eta 0:00:01\n",
      "   ----------------------------------- ---- 532.5/598.7 kB 1.4 MB/s eta 0:00:01\n",
      "   ---------------------------------------  593.9/598.7 kB 1.4 MB/s eta 0:00:01\n",
      "   ---------------------------------------- 598.7/598.7 kB 1.3 MB/s eta 0:00:00\n",
      "Downloading google_api_core-2.15.0-py3-none-any.whl (121 kB)\n",
      "   ---------------------------------------- 0.0/122.0 kB ? eta -:--:--\n",
      "   ----------------------- ---------------- 71.7/122.0 kB 4.1 MB/s eta 0:00:01\n",
      "   ------------------------------------ --- 112.6/122.0 kB 1.7 MB/s eta 0:00:01\n",
      "   ---------------------------------------- 122.0/122.0 kB 1.2 MB/s eta 0:00:00\n",
      "Downloading google_auth-2.25.2-py2.py3-none-any.whl (184 kB)\n",
      "   ---------------------------------------- 0.0/184.2 kB ? eta -:--:--\n",
      "   -- ------------------------------------- 10.2/184.2 kB ? eta -:--:--\n",
      "   ------------------------ --------------- 112.6/184.2 kB 2.2 MB/s eta 0:00:01\n",
      "   ----------------------------------- ---- 163.8/184.2 kB 1.7 MB/s eta 0:00:01\n",
      "   ---------------------------------------- 184.2/184.2 kB 1.4 MB/s eta 0:00:00\n",
      "Downloading googleapis_common_protos-1.62.0-py2.py3-none-any.whl (228 kB)\n",
      "   ---------------------------------------- 0.0/228.7 kB ? eta -:--:--\n",
      "   ------------------- -------------------- 112.6/228.7 kB 3.3 MB/s eta 0:00:01\n",
      "   -------------------------- ------------- 153.6/228.7 kB 1.8 MB/s eta 0:00:01\n",
      "   ---------------------------------------- 228.7/228.7 kB 1.7 MB/s eta 0:00:00\n",
      "Downloading proto_plus-1.23.0-py3-none-any.whl (48 kB)\n",
      "   ---------------------------------------- 0.0/48.8 kB ? eta -:--:--\n",
      "   ---------------------------------------- 48.8/48.8 kB 1.2 MB/s eta 0:00:00\n",
      "Downloading grpcio-1.60.0-cp311-cp311-win_amd64.whl (3.7 MB)\n",
      "   ---------------------------------------- 0.0/3.7 MB ? eta -:--:--\n",
      "    --------------------------------------- 0.1/3.7 MB 2.3 MB/s eta 0:00:02\n",
      "   - -------------------------------------- 0.2/3.7 MB 2.1 MB/s eta 0:00:02\n",
      "   -- ------------------------------------- 0.3/3.7 MB 2.0 MB/s eta 0:00:02\n",
      "   --- ------------------------------------ 0.3/3.7 MB 2.0 MB/s eta 0:00:02\n",
      "   ---- ----------------------------------- 0.4/3.7 MB 1.9 MB/s eta 0:00:02\n",
      "   ----- ---------------------------------- 0.5/3.7 MB 1.9 MB/s eta 0:00:02\n",
      "   ------ --------------------------------- 0.6/3.7 MB 2.0 MB/s eta 0:00:02\n",
      "   ------- -------------------------------- 0.7/3.7 MB 1.9 MB/s eta 0:00:02\n",
      "   ------- -------------------------------- 0.7/3.7 MB 1.9 MB/s eta 0:00:02\n",
      "   -------- ------------------------------- 0.8/3.7 MB 1.9 MB/s eta 0:00:02\n",
      "   --------- ------------------------------ 0.9/3.7 MB 1.9 MB/s eta 0:00:02\n",
      "   ---------- ----------------------------- 1.0/3.7 MB 2.0 MB/s eta 0:00:02\n",
      "   ----------- ---------------------------- 1.1/3.7 MB 1.9 MB/s eta 0:00:02\n",
      "   ------------ --------------------------- 1.2/3.7 MB 2.0 MB/s eta 0:00:02\n",
      "   ------------- -------------------------- 1.3/3.7 MB 2.0 MB/s eta 0:00:02\n",
      "   --------------- ------------------------ 1.4/3.7 MB 2.1 MB/s eta 0:00:02\n",
      "   ---------------- ----------------------- 1.5/3.7 MB 2.1 MB/s eta 0:00:02\n",
      "   ----------------- ---------------------- 1.6/3.7 MB 2.1 MB/s eta 0:00:01\n",
      "   ------------------- -------------------- 1.8/3.7 MB 2.2 MB/s eta 0:00:01\n",
      "   ------------------- -------------------- 1.8/3.7 MB 2.2 MB/s eta 0:00:01\n",
      "   --------------------- ------------------ 2.0/3.7 MB 2.1 MB/s eta 0:00:01\n",
      "   ---------------------- ----------------- 2.1/3.7 MB 2.2 MB/s eta 0:00:01\n",
      "   ----------------------- ---------------- 2.2/3.7 MB 2.2 MB/s eta 0:00:01\n",
      "   ------------------------ --------------- 2.3/3.7 MB 2.2 MB/s eta 0:00:01\n",
      "   -------------------------- ------------- 2.4/3.7 MB 2.3 MB/s eta 0:00:01\n",
      "   --------------------------- ------------ 2.5/3.7 MB 2.2 MB/s eta 0:00:01\n",
      "   ---------------------------- ----------- 2.6/3.7 MB 2.2 MB/s eta 0:00:01\n",
      "   ----------------------------- ---------- 2.7/3.7 MB 2.3 MB/s eta 0:00:01\n",
      "   ------------------------------ --------- 2.8/3.7 MB 2.3 MB/s eta 0:00:01\n",
      "   ------------------------------- -------- 2.9/3.7 MB 2.2 MB/s eta 0:00:01\n",
      "   -------------------------------- ------- 3.0/3.7 MB 2.3 MB/s eta 0:00:01\n",
      "   --------------------------------- ------ 3.1/3.7 MB 2.3 MB/s eta 0:00:01\n",
      "   ---------------------------------- ----- 3.2/3.7 MB 2.3 MB/s eta 0:00:01\n",
      "   ------------------------------------ --- 3.3/3.7 MB 2.3 MB/s eta 0:00:01\n",
      "   ------------------------------------- -- 3.5/3.7 MB 2.3 MB/s eta 0:00:01\n",
      "   -------------------------------------- - 3.5/3.7 MB 2.3 MB/s eta 0:00:01\n",
      "   ---------------------------------------  3.6/3.7 MB 2.3 MB/s eta 0:00:01\n",
      "   ---------------------------------------  3.7/3.7 MB 2.2 MB/s eta 0:00:01\n",
      "   ---------------------------------------- 3.7/3.7 MB 2.2 MB/s eta 0:00:00\n",
      "Downloading grpcio_status-1.60.0-py3-none-any.whl (14 kB)\n",
      "Installing collected packages: rsa, proto-plus, grpcio, googleapis-common-protos, grpcio-status, google-auth, google-api-core, google-ai-generativelanguage, google-generativeai\n",
      "Successfully installed google-ai-generativelanguage-0.4.0 google-api-core-2.15.0 google-auth-2.25.2 google-generativeai-0.3.2 googleapis-common-protos-1.62.0 grpcio-1.60.0 grpcio-status-1.60.0 proto-plus-1.23.0 rsa-4.9\n"
     ]
    }
   ],
   "source": [
    "! pip install google-generativeai"
   ]
  },
  {
   "cell_type": "markdown",
   "id": "7a8517e2",
   "metadata": {},
   "source": [
    "# FOR  IMAGE RESPONSE "
   ]
  },
  {
   "cell_type": "code",
   "execution_count": 5,
   "id": "c1d34143",
   "metadata": {},
   "outputs": [],
   "source": [
    "from dotenv import load_dotenv\n",
    "load_dotenv() ## loading all the environment variables\n",
    "\n",
    "import streamlit as st\n",
    "import os\n",
    "import google.generativeai as genai\n",
    "from PIL import Image\n",
    "\n",
    "\n",
    "genai.configure(api_key=os.getenv(\"GOOGLE_API_KEY\"))\n",
    "\n",
    "\n",
    "## FUNCTION to load Gemini Pro model and get responses\n",
    "model = genai.GenerativeModel(\"gemini-pro-vision\")\n",
    "def get_gemini_response(input,image):\n",
    "    if input!=\"\":\n",
    "       response=model.generate_content([input,image])\n",
    "    else:\n",
    "        response=model.generate_content(image)\n",
    "    return response.text\n",
    "\n",
    "st.set_page_config(page_title=\"Gemini Image Demo\")\n",
    "\n",
    "st.header(\"Gemini Application\")\n",
    "input = st.text_input(\"Input Prompt: \",key= \"Input\")\n",
    "\n",
    "uploaded_file = st.file_uploader(\"Choose an image....\", type=[\"jpg\",\"jpeg\",\"png\"])\n",
    "image=\"\"\n",
    "if uploaded_file is not None:\n",
    "    image = Image.open(uploaded_file)\n",
    "    st.image(image, caption=\"Uploaded image.\", use_column_width=True)\n",
    "\n",
    "submit=st.button(\"Tell me about This image\")\n",
    "if submit:\n",
    "\n",
    "    response=get_gemini_response(input,image)\n",
    "    st.subheader(\"The Response is\")\n",
    "    st.write(response)"
   ]
  },
  {
   "cell_type": "code",
   "execution_count": 6,
   "id": "d5d93f61",
   "metadata": {},
   "outputs": [],
   "source": [
    "from IPython.display import Image\n",
    "import os"
   ]
  },
  {
   "cell_type": "code",
   "execution_count": 7,
   "id": "ffae5e0b",
   "metadata": {},
   "outputs": [
    {
     "ename": "FileNotFoundError",
     "evalue": "No such file or directory: '/kaggle/input/carprice/carPrice.jpg'",
     "output_type": "error",
     "traceback": [
      "\u001b[1;31m---------------------------------------------------------------------------\u001b[0m",
      "\u001b[1;31mTypeError\u001b[0m                                 Traceback (most recent call last)",
      "File \u001b[1;32m~\\anaconda3\\Lib\\site-packages\\IPython\\core\\display.py:1045\u001b[0m, in \u001b[0;36mImage._data_and_metadata\u001b[1;34m(self, always_both)\u001b[0m\n\u001b[0;32m   1044\u001b[0m \u001b[38;5;28;01mtry\u001b[39;00m:\n\u001b[1;32m-> 1045\u001b[0m     b64_data \u001b[38;5;241m=\u001b[39m b2a_base64(\u001b[38;5;28mself\u001b[39m\u001b[38;5;241m.\u001b[39mdata, newline\u001b[38;5;241m=\u001b[39m\u001b[38;5;28;01mFalse\u001b[39;00m)\u001b[38;5;241m.\u001b[39mdecode(\u001b[38;5;124m\"\u001b[39m\u001b[38;5;124mascii\u001b[39m\u001b[38;5;124m\"\u001b[39m)\n\u001b[0;32m   1046\u001b[0m \u001b[38;5;28;01mexcept\u001b[39;00m \u001b[38;5;167;01mTypeError\u001b[39;00m \u001b[38;5;28;01mas\u001b[39;00m e:\n",
      "\u001b[1;31mTypeError\u001b[0m: a bytes-like object is required, not 'str'",
      "\nThe above exception was the direct cause of the following exception:\n",
      "\u001b[1;31mFileNotFoundError\u001b[0m                         Traceback (most recent call last)",
      "File \u001b[1;32m~\\anaconda3\\Lib\\site-packages\\IPython\\core\\formatters.py:974\u001b[0m, in \u001b[0;36mMimeBundleFormatter.__call__\u001b[1;34m(self, obj, include, exclude)\u001b[0m\n\u001b[0;32m    971\u001b[0m     method \u001b[38;5;241m=\u001b[39m get_real_method(obj, \u001b[38;5;28mself\u001b[39m\u001b[38;5;241m.\u001b[39mprint_method)\n\u001b[0;32m    973\u001b[0m     \u001b[38;5;28;01mif\u001b[39;00m method \u001b[38;5;129;01mis\u001b[39;00m \u001b[38;5;129;01mnot\u001b[39;00m \u001b[38;5;28;01mNone\u001b[39;00m:\n\u001b[1;32m--> 974\u001b[0m         \u001b[38;5;28;01mreturn\u001b[39;00m method(include\u001b[38;5;241m=\u001b[39minclude, exclude\u001b[38;5;241m=\u001b[39mexclude)\n\u001b[0;32m    975\u001b[0m     \u001b[38;5;28;01mreturn\u001b[39;00m \u001b[38;5;28;01mNone\u001b[39;00m\n\u001b[0;32m    976\u001b[0m \u001b[38;5;28;01melse\u001b[39;00m:\n",
      "File \u001b[1;32m~\\anaconda3\\Lib\\site-packages\\IPython\\core\\display.py:1035\u001b[0m, in \u001b[0;36mImage._repr_mimebundle_\u001b[1;34m(self, include, exclude)\u001b[0m\n\u001b[0;32m   1033\u001b[0m \u001b[38;5;28;01mif\u001b[39;00m \u001b[38;5;28mself\u001b[39m\u001b[38;5;241m.\u001b[39membed:\n\u001b[0;32m   1034\u001b[0m     mimetype \u001b[38;5;241m=\u001b[39m \u001b[38;5;28mself\u001b[39m\u001b[38;5;241m.\u001b[39m_mimetype\n\u001b[1;32m-> 1035\u001b[0m     data, metadata \u001b[38;5;241m=\u001b[39m \u001b[38;5;28mself\u001b[39m\u001b[38;5;241m.\u001b[39m_data_and_metadata(always_both\u001b[38;5;241m=\u001b[39m\u001b[38;5;28;01mTrue\u001b[39;00m)\n\u001b[0;32m   1036\u001b[0m     \u001b[38;5;28;01mif\u001b[39;00m metadata:\n\u001b[0;32m   1037\u001b[0m         metadata \u001b[38;5;241m=\u001b[39m {mimetype: metadata}\n",
      "File \u001b[1;32m~\\anaconda3\\Lib\\site-packages\\IPython\\core\\display.py:1047\u001b[0m, in \u001b[0;36mImage._data_and_metadata\u001b[1;34m(self, always_both)\u001b[0m\n\u001b[0;32m   1045\u001b[0m     b64_data \u001b[38;5;241m=\u001b[39m b2a_base64(\u001b[38;5;28mself\u001b[39m\u001b[38;5;241m.\u001b[39mdata, newline\u001b[38;5;241m=\u001b[39m\u001b[38;5;28;01mFalse\u001b[39;00m)\u001b[38;5;241m.\u001b[39mdecode(\u001b[38;5;124m\"\u001b[39m\u001b[38;5;124mascii\u001b[39m\u001b[38;5;124m\"\u001b[39m)\n\u001b[0;32m   1046\u001b[0m \u001b[38;5;28;01mexcept\u001b[39;00m \u001b[38;5;167;01mTypeError\u001b[39;00m \u001b[38;5;28;01mas\u001b[39;00m e:\n\u001b[1;32m-> 1047\u001b[0m     \u001b[38;5;28;01mraise\u001b[39;00m \u001b[38;5;167;01mFileNotFoundError\u001b[39;00m(\n\u001b[0;32m   1048\u001b[0m         \u001b[38;5;124m\"\u001b[39m\u001b[38;5;124mNo such file or directory: \u001b[39m\u001b[38;5;124m'\u001b[39m\u001b[38;5;132;01m%s\u001b[39;00m\u001b[38;5;124m'\u001b[39m\u001b[38;5;124m\"\u001b[39m \u001b[38;5;241m%\u001b[39m (\u001b[38;5;28mself\u001b[39m\u001b[38;5;241m.\u001b[39mdata)) \u001b[38;5;28;01mfrom\u001b[39;00m \u001b[38;5;21;01me\u001b[39;00m\n\u001b[0;32m   1049\u001b[0m md \u001b[38;5;241m=\u001b[39m {}\n\u001b[0;32m   1050\u001b[0m \u001b[38;5;28;01mif\u001b[39;00m \u001b[38;5;28mself\u001b[39m\u001b[38;5;241m.\u001b[39mmetadata:\n",
      "\u001b[1;31mFileNotFoundError\u001b[0m: No such file or directory: '/kaggle/input/carprice/carPrice.jpg'"
     ]
    },
    {
     "ename": "FileNotFoundError",
     "evalue": "No such file or directory: '/kaggle/input/carprice/carPrice.jpg'",
     "output_type": "error",
     "traceback": [
      "\u001b[1;31m---------------------------------------------------------------------------\u001b[0m",
      "\u001b[1;31mTypeError\u001b[0m                                 Traceback (most recent call last)",
      "File \u001b[1;32m~\\anaconda3\\Lib\\site-packages\\IPython\\core\\display.py:1045\u001b[0m, in \u001b[0;36mImage._data_and_metadata\u001b[1;34m(self, always_both)\u001b[0m\n\u001b[0;32m   1044\u001b[0m \u001b[38;5;28;01mtry\u001b[39;00m:\n\u001b[1;32m-> 1045\u001b[0m     b64_data \u001b[38;5;241m=\u001b[39m b2a_base64(\u001b[38;5;28mself\u001b[39m\u001b[38;5;241m.\u001b[39mdata, newline\u001b[38;5;241m=\u001b[39m\u001b[38;5;28;01mFalse\u001b[39;00m)\u001b[38;5;241m.\u001b[39mdecode(\u001b[38;5;124m\"\u001b[39m\u001b[38;5;124mascii\u001b[39m\u001b[38;5;124m\"\u001b[39m)\n\u001b[0;32m   1046\u001b[0m \u001b[38;5;28;01mexcept\u001b[39;00m \u001b[38;5;167;01mTypeError\u001b[39;00m \u001b[38;5;28;01mas\u001b[39;00m e:\n",
      "\u001b[1;31mTypeError\u001b[0m: a bytes-like object is required, not 'str'",
      "\nThe above exception was the direct cause of the following exception:\n",
      "\u001b[1;31mFileNotFoundError\u001b[0m                         Traceback (most recent call last)",
      "File \u001b[1;32m~\\anaconda3\\Lib\\site-packages\\IPython\\core\\formatters.py:344\u001b[0m, in \u001b[0;36mBaseFormatter.__call__\u001b[1;34m(self, obj)\u001b[0m\n\u001b[0;32m    342\u001b[0m     method \u001b[38;5;241m=\u001b[39m get_real_method(obj, \u001b[38;5;28mself\u001b[39m\u001b[38;5;241m.\u001b[39mprint_method)\n\u001b[0;32m    343\u001b[0m     \u001b[38;5;28;01mif\u001b[39;00m method \u001b[38;5;129;01mis\u001b[39;00m \u001b[38;5;129;01mnot\u001b[39;00m \u001b[38;5;28;01mNone\u001b[39;00m:\n\u001b[1;32m--> 344\u001b[0m         \u001b[38;5;28;01mreturn\u001b[39;00m method()\n\u001b[0;32m    345\u001b[0m     \u001b[38;5;28;01mreturn\u001b[39;00m \u001b[38;5;28;01mNone\u001b[39;00m\n\u001b[0;32m    346\u001b[0m \u001b[38;5;28;01melse\u001b[39;00m:\n",
      "File \u001b[1;32m~\\anaconda3\\Lib\\site-packages\\IPython\\core\\display.py:1067\u001b[0m, in \u001b[0;36mImage._repr_png_\u001b[1;34m(self)\u001b[0m\n\u001b[0;32m   1065\u001b[0m \u001b[38;5;28;01mdef\u001b[39;00m \u001b[38;5;21m_repr_png_\u001b[39m(\u001b[38;5;28mself\u001b[39m):\n\u001b[0;32m   1066\u001b[0m     \u001b[38;5;28;01mif\u001b[39;00m \u001b[38;5;28mself\u001b[39m\u001b[38;5;241m.\u001b[39membed \u001b[38;5;129;01mand\u001b[39;00m \u001b[38;5;28mself\u001b[39m\u001b[38;5;241m.\u001b[39mformat \u001b[38;5;241m==\u001b[39m \u001b[38;5;28mself\u001b[39m\u001b[38;5;241m.\u001b[39m_FMT_PNG:\n\u001b[1;32m-> 1067\u001b[0m         \u001b[38;5;28;01mreturn\u001b[39;00m \u001b[38;5;28mself\u001b[39m\u001b[38;5;241m.\u001b[39m_data_and_metadata()\n",
      "File \u001b[1;32m~\\anaconda3\\Lib\\site-packages\\IPython\\core\\display.py:1047\u001b[0m, in \u001b[0;36mImage._data_and_metadata\u001b[1;34m(self, always_both)\u001b[0m\n\u001b[0;32m   1045\u001b[0m     b64_data \u001b[38;5;241m=\u001b[39m b2a_base64(\u001b[38;5;28mself\u001b[39m\u001b[38;5;241m.\u001b[39mdata, newline\u001b[38;5;241m=\u001b[39m\u001b[38;5;28;01mFalse\u001b[39;00m)\u001b[38;5;241m.\u001b[39mdecode(\u001b[38;5;124m\"\u001b[39m\u001b[38;5;124mascii\u001b[39m\u001b[38;5;124m\"\u001b[39m)\n\u001b[0;32m   1046\u001b[0m \u001b[38;5;28;01mexcept\u001b[39;00m \u001b[38;5;167;01mTypeError\u001b[39;00m \u001b[38;5;28;01mas\u001b[39;00m e:\n\u001b[1;32m-> 1047\u001b[0m     \u001b[38;5;28;01mraise\u001b[39;00m \u001b[38;5;167;01mFileNotFoundError\u001b[39;00m(\n\u001b[0;32m   1048\u001b[0m         \u001b[38;5;124m\"\u001b[39m\u001b[38;5;124mNo such file or directory: \u001b[39m\u001b[38;5;124m'\u001b[39m\u001b[38;5;132;01m%s\u001b[39;00m\u001b[38;5;124m'\u001b[39m\u001b[38;5;124m\"\u001b[39m \u001b[38;5;241m%\u001b[39m (\u001b[38;5;28mself\u001b[39m\u001b[38;5;241m.\u001b[39mdata)) \u001b[38;5;28;01mfrom\u001b[39;00m \u001b[38;5;21;01me\u001b[39;00m\n\u001b[0;32m   1049\u001b[0m md \u001b[38;5;241m=\u001b[39m {}\n\u001b[0;32m   1050\u001b[0m \u001b[38;5;28;01mif\u001b[39;00m \u001b[38;5;28mself\u001b[39m\u001b[38;5;241m.\u001b[39mmetadata:\n",
      "\u001b[1;31mFileNotFoundError\u001b[0m: No such file or directory: '/kaggle/input/carprice/carPrice.jpg'"
     ]
    },
    {
     "data": {
      "text/plain": [
       "<IPython.core.display.Image object>"
      ]
     },
     "execution_count": 7,
     "metadata": {},
     "output_type": "execute_result"
    }
   ],
   "source": [
    "Image(\"/kaggle/input/carprice/carPrice.jpg\")"
   ]
  },
  {
   "cell_type": "code",
   "execution_count": null,
   "id": "93eadc2e",
   "metadata": {},
   "outputs": [],
   "source": []
  }
 ],
 "metadata": {
  "kernelspec": {
   "display_name": "Python 3 (ipykernel)",
   "language": "python",
   "name": "python3"
  },
  "language_info": {
   "codemirror_mode": {
    "name": "ipython",
    "version": 3
   },
   "file_extension": ".py",
   "mimetype": "text/x-python",
   "name": "python",
   "nbconvert_exporter": "python",
   "pygments_lexer": "ipython3",
   "version": "3.11.5"
  }
 },
 "nbformat": 4,
 "nbformat_minor": 5
}
